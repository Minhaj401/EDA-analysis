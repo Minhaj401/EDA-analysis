{
 "cells": [
  {
   "cell_type": "code",
   "execution_count": 2,
   "id": "daa38617-9512-4bc3-a42f-179464221840",
   "metadata": {},
   "outputs": [],
   "source": [
    "import pandas as pd"
   ]
  },
  {
   "cell_type": "code",
   "execution_count": 3,
   "id": "32c573ab-fdbd-4aab-b4d8-f0e096c67af1",
   "metadata": {},
   "outputs": [],
   "source": [
    "from ydata_profiling import ProfileReport\n",
    "df=pd.read_csv(\"train.csv\")"
   ]
  },
  {
   "cell_type": "code",
   "execution_count": 4,
   "id": "e592764a-b79b-4f98-ad55-f8b18d24a442",
   "metadata": {},
   "outputs": [],
   "source": [
    "profile=ProfileReport(df)"
   ]
  },
  {
   "cell_type": "code",
   "execution_count": 5,
   "id": "e36764a0-f212-4d36-abcb-48d62ea7d763",
   "metadata": {},
   "outputs": [
    {
     "name": "stderr",
     "output_type": "stream",
     "text": [
      "Summarize dataset:   0%|                                              | 0/17 [00:00<?, ?it/s, Describe variable: Parch]\n",
      "100%|█████████████████████████████████████████████████████████████████████████████████| 12/12 [00:00<00:00, 158.32it/s]\u001b[A\n",
      "Summarize dataset:  74%|█████████████████████████▊         | 14/19 [00:00<00:00, 25.87it/s, Calculate auto correlation]C:\\Users\\Minhaj Noushad\\AppData\\Local\\Programs\\Python\\Python39\\lib\\site-packages\\ydata_profiling\\model\\correlations.py:87: UserWarning: There was an attempt to calculate the auto correlation, but this failed.\n",
      "To hide this warning, disable the calculation\n",
      "(using `df.profile_report(correlations={\"auto\": {\"calculate\": False}})`\n",
      "If this is problematic for your use case, please report this as an issue:\n",
      "https://github.com/ydataai/ydata-profiling/issues\n",
      "(include the error message: 'putmask: first argument must be an array')\n",
      "  warnings.warn(\n",
      "Summarize dataset: 100%|████████████████████████████████████████████████████| 47/47 [00:04<00:00, 10.03it/s, Completed]\n",
      "Generate report structure: 100%|█████████████████████████████████████████████████████████| 1/1 [00:06<00:00,  6.27s/it]\n",
      "Render HTML: 100%|███████████████████████████████████████████████████████████████████████| 1/1 [00:01<00:00,  1.56s/it]\n",
      "Export report to file: 100%|█████████████████████████████████████████████████████████████| 1/1 [00:00<00:00, 46.74it/s]\n"
     ]
    }
   ],
   "source": [
    "profile.to_file(output_file=\"output.html\")"
   ]
  },
  {
   "cell_type": "code",
   "execution_count": null,
   "id": "63ff60f4-4214-4f6e-9290-d1df5b22c4e4",
   "metadata": {},
   "outputs": [],
   "source": []
  }
 ],
 "metadata": {
  "kernelspec": {
   "display_name": "Python 3 (ipykernel)",
   "language": "python",
   "name": "python3"
  },
  "language_info": {
   "codemirror_mode": {
    "name": "ipython",
    "version": 3
   },
   "file_extension": ".py",
   "mimetype": "text/x-python",
   "name": "python",
   "nbconvert_exporter": "python",
   "pygments_lexer": "ipython3",
   "version": "3.9.11"
  }
 },
 "nbformat": 4,
 "nbformat_minor": 5
}
